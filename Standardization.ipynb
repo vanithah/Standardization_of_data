{
 "cells": [
  {
   "cell_type": "markdown",
   "metadata": {},
   "source": [
    "### why to to Feature scaling:?\n",
    "1) linear regression:\n",
    "coefficients of linear regression are found out with the help of gradient descent. coefficints should converge to global minima.we not  scaled, then randomly selected coefficients may be far away from global minima.\n",
    "\n",
    "2) Kmeans clustering & 3)knn: we use euclidian distance. if not scaled down then we can see huge distance\n",
    "\n",
    "4) deep learning\n"
   ]
  },
  {
   "cell_type": "markdown",
   "metadata": {},
   "source": [
    "### when not to apply feature scaling?\n",
    "1. decision tree\n",
    "2. random forest\n",
    "3. ensemble techniques"
   ]
  },
  {
   "cell_type": "markdown",
   "metadata": {},
   "source": [
    "# standard scaler"
   ]
  },
  {
   "cell_type": "code",
   "execution_count": 2,
   "metadata": {},
   "outputs": [
    {
     "data": {
      "text/html": [
       "<div>\n",
       "<style scoped>\n",
       "    .dataframe tbody tr th:only-of-type {\n",
       "        vertical-align: middle;\n",
       "    }\n",
       "\n",
       "    .dataframe tbody tr th {\n",
       "        vertical-align: top;\n",
       "    }\n",
       "\n",
       "    .dataframe thead th {\n",
       "        text-align: right;\n",
       "    }\n",
       "</style>\n",
       "<table border=\"1\" class=\"dataframe\">\n",
       "  <thead>\n",
       "    <tr style=\"text-align: right;\">\n",
       "      <th></th>\n",
       "      <th>Date</th>\n",
       "      <th>Location</th>\n",
       "      <th>MinTemp</th>\n",
       "      <th>MaxTemp</th>\n",
       "      <th>Rainfall</th>\n",
       "      <th>Evaporation</th>\n",
       "      <th>Sunshine</th>\n",
       "      <th>WindGustDir</th>\n",
       "      <th>WindGustSpeed</th>\n",
       "      <th>WindDir9am</th>\n",
       "      <th>...</th>\n",
       "      <th>Humidity9am</th>\n",
       "      <th>Humidity3pm</th>\n",
       "      <th>Pressure9am</th>\n",
       "      <th>Pressure3pm</th>\n",
       "      <th>Cloud9am</th>\n",
       "      <th>Cloud3pm</th>\n",
       "      <th>Temp9am</th>\n",
       "      <th>Temp3pm</th>\n",
       "      <th>RainToday</th>\n",
       "      <th>RainTomorrow</th>\n",
       "    </tr>\n",
       "  </thead>\n",
       "  <tbody>\n",
       "    <tr>\n",
       "      <td>0</td>\n",
       "      <td>07-02-2014</td>\n",
       "      <td>CoffsHarbour</td>\n",
       "      <td>17.7</td>\n",
       "      <td>25.9</td>\n",
       "      <td>2.2</td>\n",
       "      <td>1.6</td>\n",
       "      <td>NaN</td>\n",
       "      <td>NNE</td>\n",
       "      <td>31.0</td>\n",
       "      <td>SW</td>\n",
       "      <td>...</td>\n",
       "      <td>76.0</td>\n",
       "      <td>66.0</td>\n",
       "      <td>1017.3</td>\n",
       "      <td>1016.5</td>\n",
       "      <td>7.0</td>\n",
       "      <td>4.0</td>\n",
       "      <td>21.5</td>\n",
       "      <td>24.2</td>\n",
       "      <td>Yes</td>\n",
       "      <td>No</td>\n",
       "    </tr>\n",
       "    <tr>\n",
       "      <td>1</td>\n",
       "      <td>23-04-2009</td>\n",
       "      <td>Portland</td>\n",
       "      <td>6.7</td>\n",
       "      <td>22.0</td>\n",
       "      <td>0.0</td>\n",
       "      <td>5.4</td>\n",
       "      <td>0.4</td>\n",
       "      <td>NNE</td>\n",
       "      <td>44.0</td>\n",
       "      <td>NE</td>\n",
       "      <td>...</td>\n",
       "      <td>65.0</td>\n",
       "      <td>37.0</td>\n",
       "      <td>1014.0</td>\n",
       "      <td>1008.8</td>\n",
       "      <td>7.0</td>\n",
       "      <td>8.0</td>\n",
       "      <td>14.0</td>\n",
       "      <td>21.8</td>\n",
       "      <td>No</td>\n",
       "      <td>Yes</td>\n",
       "    </tr>\n",
       "    <tr>\n",
       "      <td>2</td>\n",
       "      <td>08-11-2015</td>\n",
       "      <td>Watsonia</td>\n",
       "      <td>6.2</td>\n",
       "      <td>25.7</td>\n",
       "      <td>0.0</td>\n",
       "      <td>4.2</td>\n",
       "      <td>10.9</td>\n",
       "      <td>WSW</td>\n",
       "      <td>20.0</td>\n",
       "      <td>SE</td>\n",
       "      <td>...</td>\n",
       "      <td>71.0</td>\n",
       "      <td>28.0</td>\n",
       "      <td>1022.5</td>\n",
       "      <td>1019.4</td>\n",
       "      <td>2.0</td>\n",
       "      <td>7.0</td>\n",
       "      <td>12.8</td>\n",
       "      <td>23.6</td>\n",
       "      <td>No</td>\n",
       "      <td>No</td>\n",
       "    </tr>\n",
       "  </tbody>\n",
       "</table>\n",
       "<p>3 rows × 23 columns</p>\n",
       "</div>"
      ],
      "text/plain": [
       "         Date      Location  MinTemp  MaxTemp  Rainfall  Evaporation  \\\n",
       "0  07-02-2014  CoffsHarbour     17.7     25.9       2.2          1.6   \n",
       "1  23-04-2009      Portland      6.7     22.0       0.0          5.4   \n",
       "2  08-11-2015      Watsonia      6.2     25.7       0.0          4.2   \n",
       "\n",
       "   Sunshine WindGustDir  WindGustSpeed WindDir9am  ... Humidity9am  \\\n",
       "0       NaN         NNE           31.0         SW  ...        76.0   \n",
       "1       0.4         NNE           44.0         NE  ...        65.0   \n",
       "2      10.9         WSW           20.0         SE  ...        71.0   \n",
       "\n",
       "   Humidity3pm  Pressure9am  Pressure3pm  Cloud9am  Cloud3pm  Temp9am  \\\n",
       "0         66.0       1017.3       1016.5       7.0       4.0     21.5   \n",
       "1         37.0       1014.0       1008.8       7.0       8.0     14.0   \n",
       "2         28.0       1022.5       1019.4       2.0       7.0     12.8   \n",
       "\n",
       "   Temp3pm  RainToday  RainTomorrow  \n",
       "0     24.2        Yes            No  \n",
       "1     21.8         No           Yes  \n",
       "2     23.6         No            No  \n",
       "\n",
       "[3 rows x 23 columns]"
      ]
     },
     "execution_count": 2,
     "metadata": {},
     "output_type": "execute_result"
    }
   ],
   "source": [
    "# https://scikit-learn.org/stable/modules/preprocessing.html\n",
    "\n",
    "# standard scalar: works on Z-score\n",
    "# need to check how distribution changing after z-score\n",
    "\n",
    "\n",
    "import pandas as pd\n",
    "rain = pd.read_csv('Rain Prediction Train.csv')\n",
    "rain.head(3)"
   ]
  },
  {
   "cell_type": "code",
   "execution_count": 11,
   "metadata": {},
   "outputs": [],
   "source": [
    "import seaborn as sb\n"
   ]
  },
  {
   "cell_type": "code",
   "execution_count": 16,
   "metadata": {},
   "outputs": [],
   "source": [
    "from matplotlib import pyplot as plt       # or import matplotlib.pyplot as plt"
   ]
  },
  {
   "cell_type": "code",
   "execution_count": 24,
   "metadata": {},
   "outputs": [
    {
     "data": {
      "text/plain": [
       "<matplotlib.axes._subplots.AxesSubplot at 0x211f050cd08>"
      ]
     },
     "execution_count": 24,
     "metadata": {},
     "output_type": "execute_result"
    },
    {
     "data": {
      "image/png": "[encoded data removed]",
      "text/plain": [
       "<Figure size 1008x432 with 1 Axes>"
      ]
     },
     "metadata": {
      "needs_background": "light"
     },
     "output_type": "display_data"
    }
   ],
   "source": [
    "plt.figure(figsize=(14,6))                         # before standard scaler\n",
    "plt.ylim(0,0.12)\n",
    "sb.kdeplot(rain['MinTemp'])\n",
    "sb.kdeplot(rain['Rainfall'])\n",
    "sb.kdeplot(rain['Evaporation'])\n",
    "sb.kdeplot(rain['WindSpeed9am'])\n",
    "sb.kdeplot(rain['Pressure9am'])"
   ]
  },
  {
   "cell_type": "code",
   "execution_count": 18,
   "metadata": {
    "scrolled": true
   },
   "outputs": [],
   "source": [
    "from sklearn.preprocessing import StandardScaler"
   ]
  },
  {
   "cell_type": "code",
   "execution_count": 61,
   "metadata": {},
   "outputs": [],
   "source": [
    "data1 = rain[['MinTemp','Rainfall','Evaporation','WindSpeed9am','Pressure9am']]\n",
    "data1 = data1.dropna()                #apply different strategy to fill na instead of dropna"
   ]
  },
  {
   "cell_type": "code",
   "execution_count": 26,
   "metadata": {},
   "outputs": [],
   "source": [
    "sc= StandardScaler()                       #standard scaler\n",
    "data_sc = sc.fit_transform(data1) \n",
    "data_sc = pd.DataFrame(data_sc)\n",
    "data_sc.columns=data1.columns"
   ]
  },
  {
   "cell_type": "code",
   "execution_count": 31,
   "metadata": {},
   "outputs": [
    {
     "data": {
      "text/plain": [
       "<matplotlib.axes._subplots.AxesSubplot at 0x211f0463b88>"
      ]
     },
     "execution_count": 31,
     "metadata": {},
     "output_type": "execute_result"
    },
    {
     "data": {
      "image/png": "[encoded data removed]",
      "text/plain": [
       "<Figure size 1008x432 with 1 Axes>"
      ]
     },
     "metadata": {
      "needs_background": "light"
     },
     "output_type": "display_data"
    }
   ],
   "source": [
    "plt.figure(figsize=(14,6))          # after standard scaler   but not in almost same range\n",
    "plt.ylim(0,0.6)\n",
    "sb.kdeplot(data_sc['MinTemp'])\n",
    "sb.kdeplot(data_sc['Rainfall'])\n",
    "sb.kdeplot(data_sc['Evaporation'])\n",
    "sb.kdeplot(data_sc['WindSpeed9am'])\n",
    "sb.kdeplot(data_sc['Pressure9am'])"
   ]
  },
  {
   "cell_type": "code",
   "execution_count": 33,
   "metadata": {},
   "outputs": [
    {
     "data": {
      "text/html": [
       "<div>\n",
       "<style scoped>\n",
       "    .dataframe tbody tr th:only-of-type {\n",
       "        vertical-align: middle;\n",
       "    }\n",
       "\n",
       "    .dataframe tbody tr th {\n",
       "        vertical-align: top;\n",
       "    }\n",
       "\n",
       "    .dataframe thead th {\n",
       "        text-align: right;\n",
       "    }\n",
       "</style>\n",
       "<table border=\"1\" class=\"dataframe\">\n",
       "  <thead>\n",
       "    <tr style=\"text-align: right;\">\n",
       "      <th></th>\n",
       "      <th>MinTemp</th>\n",
       "      <th>Rainfall</th>\n",
       "      <th>Evaporation</th>\n",
       "      <th>WindSpeed9am</th>\n",
       "      <th>Pressure9am</th>\n",
       "    </tr>\n",
       "  </thead>\n",
       "  <tbody>\n",
       "    <tr>\n",
       "      <td>count</td>\n",
       "      <td>56768.000000</td>\n",
       "      <td>56768.000000</td>\n",
       "      <td>56768.000000</td>\n",
       "      <td>56768.000000</td>\n",
       "      <td>56768.000000</td>\n",
       "    </tr>\n",
       "    <tr>\n",
       "      <td>mean</td>\n",
       "      <td>13.046102</td>\n",
       "      <td>2.051268</td>\n",
       "      <td>5.465919</td>\n",
       "      <td>14.720635</td>\n",
       "      <td>1017.404959</td>\n",
       "    </tr>\n",
       "    <tr>\n",
       "      <td>std</td>\n",
       "      <td>6.405527</td>\n",
       "      <td>6.603820</td>\n",
       "      <td>4.149902</td>\n",
       "      <td>8.597672</td>\n",
       "      <td>7.025719</td>\n",
       "    </tr>\n",
       "    <tr>\n",
       "      <td>min</td>\n",
       "      <td>-6.500000</td>\n",
       "      <td>0.000000</td>\n",
       "      <td>0.000000</td>\n",
       "      <td>0.000000</td>\n",
       "      <td>980.500000</td>\n",
       "    </tr>\n",
       "    <tr>\n",
       "      <td>25%</td>\n",
       "      <td>8.300000</td>\n",
       "      <td>0.000000</td>\n",
       "      <td>2.600000</td>\n",
       "      <td>9.000000</td>\n",
       "      <td>1012.800000</td>\n",
       "    </tr>\n",
       "    <tr>\n",
       "      <td>50%</td>\n",
       "      <td>12.700000</td>\n",
       "      <td>0.000000</td>\n",
       "      <td>4.800000</td>\n",
       "      <td>13.000000</td>\n",
       "      <td>1017.400000</td>\n",
       "    </tr>\n",
       "    <tr>\n",
       "      <td>75%</td>\n",
       "      <td>17.800000</td>\n",
       "      <td>0.600000</td>\n",
       "      <td>7.400000</td>\n",
       "      <td>20.000000</td>\n",
       "      <td>1022.100000</td>\n",
       "    </tr>\n",
       "    <tr>\n",
       "      <td>max</td>\n",
       "      <td>33.900000</td>\n",
       "      <td>168.400000</td>\n",
       "      <td>86.200000</td>\n",
       "      <td>67.000000</td>\n",
       "      <td>1040.900000</td>\n",
       "    </tr>\n",
       "  </tbody>\n",
       "</table>\n",
       "</div>"
      ],
      "text/plain": [
       "            MinTemp      Rainfall   Evaporation  WindSpeed9am   Pressure9am\n",
       "count  56768.000000  56768.000000  56768.000000  56768.000000  56768.000000\n",
       "mean      13.046102      2.051268      5.465919     14.720635   1017.404959\n",
       "std        6.405527      6.603820      4.149902      8.597672      7.025719\n",
       "min       -6.500000      0.000000      0.000000      0.000000    980.500000\n",
       "25%        8.300000      0.000000      2.600000      9.000000   1012.800000\n",
       "50%       12.700000      0.000000      4.800000     13.000000   1017.400000\n",
       "75%       17.800000      0.600000      7.400000     20.000000   1022.100000\n",
       "max       33.900000    168.400000     86.200000     67.000000   1040.900000"
      ]
     },
     "execution_count": 33,
     "metadata": {},
     "output_type": "execute_result"
    }
   ],
   "source": [
    "data1.describe()"
   ]
  },
  {
   "cell_type": "code",
   "execution_count": 34,
   "metadata": {},
   "outputs": [
    {
     "data": {
      "text/html": [
       "<div>\n",
       "<style scoped>\n",
       "    .dataframe tbody tr th:only-of-type {\n",
       "        vertical-align: middle;\n",
       "    }\n",
       "\n",
       "    .dataframe tbody tr th {\n",
       "        vertical-align: top;\n",
       "    }\n",
       "\n",
       "    .dataframe thead th {\n",
       "        text-align: right;\n",
       "    }\n",
       "</style>\n",
       "<table border=\"1\" class=\"dataframe\">\n",
       "  <thead>\n",
       "    <tr style=\"text-align: right;\">\n",
       "      <th></th>\n",
       "      <th>MinTemp</th>\n",
       "      <th>Rainfall</th>\n",
       "      <th>Evaporation</th>\n",
       "      <th>WindSpeed9am</th>\n",
       "      <th>Pressure9am</th>\n",
       "    </tr>\n",
       "  </thead>\n",
       "  <tbody>\n",
       "    <tr>\n",
       "      <td>count</td>\n",
       "      <td>5.676800e+04</td>\n",
       "      <td>5.676800e+04</td>\n",
       "      <td>5.676800e+04</td>\n",
       "      <td>5.676800e+04</td>\n",
       "      <td>5.676800e+04</td>\n",
       "    </tr>\n",
       "    <tr>\n",
       "      <td>mean</td>\n",
       "      <td>2.690093e-17</td>\n",
       "      <td>-1.353734e-15</td>\n",
       "      <td>-1.867165e-16</td>\n",
       "      <td>7.384602e-16</td>\n",
       "      <td>-2.264086e-15</td>\n",
       "    </tr>\n",
       "    <tr>\n",
       "      <td>std</td>\n",
       "      <td>1.000009e+00</td>\n",
       "      <td>1.000009e+00</td>\n",
       "      <td>1.000009e+00</td>\n",
       "      <td>1.000009e+00</td>\n",
       "      <td>1.000009e+00</td>\n",
       "    </tr>\n",
       "    <tr>\n",
       "      <td>min</td>\n",
       "      <td>-3.051470e+00</td>\n",
       "      <td>-3.106212e-01</td>\n",
       "      <td>-1.317132e+00</td>\n",
       "      <td>-1.712180e+00</td>\n",
       "      <td>-5.252884e+00</td>\n",
       "    </tr>\n",
       "    <tr>\n",
       "      <td>25%</td>\n",
       "      <td>-7.409450e-01</td>\n",
       "      <td>-3.106212e-01</td>\n",
       "      <td>-6.906053e-01</td>\n",
       "      <td>-6.653761e-01</td>\n",
       "      <td>-6.554489e-01</td>\n",
       "    </tr>\n",
       "    <tr>\n",
       "      <td>50%</td>\n",
       "      <td>-5.403220e-02</td>\n",
       "      <td>-3.106212e-01</td>\n",
       "      <td>-1.604677e-01</td>\n",
       "      <td>-2.001298e-01</td>\n",
       "      <td>-7.058101e-04</td>\n",
       "    </tr>\n",
       "    <tr>\n",
       "      <td>75%</td>\n",
       "      <td>7.421622e-01</td>\n",
       "      <td>-2.197639e-01</td>\n",
       "      <td>4.660587e-01</td>\n",
       "      <td>6.140513e-01</td>\n",
       "      <td>6.682708e-01</td>\n",
       "    </tr>\n",
       "    <tr>\n",
       "      <td>max</td>\n",
       "      <td>3.255639e+00</td>\n",
       "      <td>2.519000e+01</td>\n",
       "      <td>1.945463e+01</td>\n",
       "      <td>6.080696e+00</td>\n",
       "      <td>3.344177e+00</td>\n",
       "    </tr>\n",
       "  </tbody>\n",
       "</table>\n",
       "</div>"
      ],
      "text/plain": [
       "            MinTemp      Rainfall   Evaporation  WindSpeed9am   Pressure9am\n",
       "count  5.676800e+04  5.676800e+04  5.676800e+04  5.676800e+04  5.676800e+04\n",
       "mean   2.690093e-17 -1.353734e-15 -1.867165e-16  7.384602e-16 -2.264086e-15\n",
       "std    1.000009e+00  1.000009e+00  1.000009e+00  1.000009e+00  1.000009e+00\n",
       "min   -3.051470e+00 -3.106212e-01 -1.317132e+00 -1.712180e+00 -5.252884e+00\n",
       "25%   -7.409450e-01 -3.106212e-01 -6.906053e-01 -6.653761e-01 -6.554489e-01\n",
       "50%   -5.403220e-02 -3.106212e-01 -1.604677e-01 -2.001298e-01 -7.058101e-04\n",
       "75%    7.421622e-01 -2.197639e-01  4.660587e-01  6.140513e-01  6.682708e-01\n",
       "max    3.255639e+00  2.519000e+01  1.945463e+01  6.080696e+00  3.344177e+00"
      ]
     },
     "execution_count": 34,
     "metadata": {},
     "output_type": "execute_result"
    }
   ],
   "source": [
    "data_sc.describe()"
   ]
  },
  {
   "cell_type": "code",
   "execution_count": null,
   "metadata": {},
   "outputs": [],
   "source": []
  },
  {
   "cell_type": "markdown",
   "metadata": {},
   "source": [
    "# Min Max scaler"
   ]
  },
  {
   "cell_type": "code",
   "execution_count": 36,
   "metadata": {},
   "outputs": [],
   "source": [
    "# to make all variables in the same range\n",
    "# when normality is not an assumption\n",
    "#x - x(min)/x(max)-x(min)\n",
    "# data will be in the range (-1,0,1) provided nomissing values\n",
    "# if data having the outlier, then min and max values will be outliers value. so outliers impact the concept/characteristic\n",
    "# so whenever there are any outlier then do not go with min-max \n",
    "# not use this for linear data"
   ]
  },
  {
   "cell_type": "code",
   "execution_count": 54,
   "metadata": {},
   "outputs": [],
   "source": [
    "from sklearn.preprocessing import MinMaxScaler\n",
    "mmc=MinMaxScaler()                       #standard scaler\n",
    "data_mmc = mmc.fit_transform(data1) \n",
    "data_mmc = pd.DataFrame(data_mmc)\n",
    "data_mmc.columns=data1.columns"
   ]
  },
  {
   "cell_type": "code",
   "execution_count": 55,
   "metadata": {},
   "outputs": [
    {
     "name": "stderr",
     "output_type": "stream",
     "text": [
      "C:\\Users\\Dell\\Anaconda3\\lib\\site-packages\\statsmodels\\nonparametric\\kde.py:447: RuntimeWarning: invalid value encountered in greater\n",
      "  X = X[np.logical_and(X > clip[0], X < clip[1])] # won't work for two columns.\n",
      "C:\\Users\\Dell\\Anaconda3\\lib\\site-packages\\statsmodels\\nonparametric\\kde.py:447: RuntimeWarning: invalid value encountered in less\n",
      "  X = X[np.logical_and(X > clip[0], X < clip[1])] # won't work for two columns.\n"
     ]
    },
    {
     "data": {
      "text/plain": [
       "<matplotlib.axes._subplots.AxesSubplot at 0x211f00d4a08>"
      ]
     },
     "execution_count": 55,
     "metadata": {},
     "output_type": "execute_result"
    },
    {
     "data": {
      "image/png": "[encoded data removed]",
      "text/plain": [
       "<Figure size 1008x432 with 1 Axes>"
      ]
     },
     "metadata": {
      "needs_background": "light"
     },
     "output_type": "display_data"
    }
   ],
   "source": [
    "plt.figure(figsize=(14,6))          # after standard scaler   but not in almost same range\n",
    "#plt.ylim(0)\n",
    "sb.kdeplot(data_mmc['MinTemp'])\n",
    "sb.kdeplot(data_mmc['Rainfall'])\n",
    "sb.kdeplot(data_mmc['Evaporation'])\n",
    "sb.kdeplot(data_mmc['WindSpeed9am'])\n",
    "sb.kdeplot(data_mmc['Pressure9am'])"
   ]
  },
  {
   "cell_type": "code",
   "execution_count": 44,
   "metadata": {},
   "outputs": [
    {
     "data": {
      "text/html": [
       "<div>\n",
       "<style scoped>\n",
       "    .dataframe tbody tr th:only-of-type {\n",
       "        vertical-align: middle;\n",
       "    }\n",
       "\n",
       "    .dataframe tbody tr th {\n",
       "        vertical-align: top;\n",
       "    }\n",
       "\n",
       "    .dataframe thead th {\n",
       "        text-align: right;\n",
       "    }\n",
       "</style>\n",
       "<table border=\"1\" class=\"dataframe\">\n",
       "  <thead>\n",
       "    <tr style=\"text-align: right;\">\n",
       "      <th></th>\n",
       "      <th>MinTemp</th>\n",
       "      <th>Rainfall</th>\n",
       "      <th>Evaporation</th>\n",
       "      <th>WindSpeed9am</th>\n",
       "      <th>Pressure9am</th>\n",
       "    </tr>\n",
       "  </thead>\n",
       "  <tbody>\n",
       "    <tr>\n",
       "      <td>count</td>\n",
       "      <td>56768.000000</td>\n",
       "      <td>56768.000000</td>\n",
       "      <td>56768.000000</td>\n",
       "      <td>56768.000000</td>\n",
       "      <td>56768.000000</td>\n",
       "    </tr>\n",
       "    <tr>\n",
       "      <td>mean</td>\n",
       "      <td>0.483814</td>\n",
       "      <td>0.012181</td>\n",
       "      <td>0.063410</td>\n",
       "      <td>0.219711</td>\n",
       "      <td>0.611009</td>\n",
       "    </tr>\n",
       "    <tr>\n",
       "      <td>std</td>\n",
       "      <td>0.158553</td>\n",
       "      <td>0.039215</td>\n",
       "      <td>0.048143</td>\n",
       "      <td>0.128323</td>\n",
       "      <td>0.116320</td>\n",
       "    </tr>\n",
       "    <tr>\n",
       "      <td>min</td>\n",
       "      <td>0.000000</td>\n",
       "      <td>0.000000</td>\n",
       "      <td>0.000000</td>\n",
       "      <td>0.000000</td>\n",
       "      <td>0.000000</td>\n",
       "    </tr>\n",
       "    <tr>\n",
       "      <td>25%</td>\n",
       "      <td>0.366337</td>\n",
       "      <td>0.000000</td>\n",
       "      <td>0.030162</td>\n",
       "      <td>0.134328</td>\n",
       "      <td>0.534768</td>\n",
       "    </tr>\n",
       "    <tr>\n",
       "      <td>50%</td>\n",
       "      <td>0.475248</td>\n",
       "      <td>0.000000</td>\n",
       "      <td>0.055684</td>\n",
       "      <td>0.194030</td>\n",
       "      <td>0.610927</td>\n",
       "    </tr>\n",
       "    <tr>\n",
       "      <td>75%</td>\n",
       "      <td>0.601485</td>\n",
       "      <td>0.003563</td>\n",
       "      <td>0.085847</td>\n",
       "      <td>0.298507</td>\n",
       "      <td>0.688742</td>\n",
       "    </tr>\n",
       "    <tr>\n",
       "      <td>max</td>\n",
       "      <td>1.000000</td>\n",
       "      <td>1.000000</td>\n",
       "      <td>1.000000</td>\n",
       "      <td>1.000000</td>\n",
       "      <td>1.000000</td>\n",
       "    </tr>\n",
       "  </tbody>\n",
       "</table>\n",
       "</div>"
      ],
      "text/plain": [
       "            MinTemp      Rainfall   Evaporation  WindSpeed9am   Pressure9am\n",
       "count  56768.000000  56768.000000  56768.000000  56768.000000  56768.000000\n",
       "mean       0.483814      0.012181      0.063410      0.219711      0.611009\n",
       "std        0.158553      0.039215      0.048143      0.128323      0.116320\n",
       "min        0.000000      0.000000      0.000000      0.000000      0.000000\n",
       "25%        0.366337      0.000000      0.030162      0.134328      0.534768\n",
       "50%        0.475248      0.000000      0.055684      0.194030      0.610927\n",
       "75%        0.601485      0.003563      0.085847      0.298507      0.688742\n",
       "max        1.000000      1.000000      1.000000      1.000000      1.000000"
      ]
     },
     "execution_count": 44,
     "metadata": {},
     "output_type": "execute_result"
    }
   ],
   "source": [
    "data_mmc.describe()"
   ]
  },
  {
   "cell_type": "code",
   "execution_count": null,
   "metadata": {},
   "outputs": [],
   "source": []
  },
  {
   "cell_type": "markdown",
   "metadata": {},
   "source": [
    "# Robust SCaler"
   ]
  },
  {
   "cell_type": "code",
   "execution_count": 56,
   "metadata": {},
   "outputs": [],
   "source": [
    "# to make all variables in the same range\n",
    "#x - x(25%)/x(75%)-x(25%)\n",
    "# good to use this even when outliers are present\n",
    "# used for linear data\n",
    "\n",
    "from sklearn.preprocessing import RobustScaler\n",
    "rc=RobustScaler()                       #robust scaler\n",
    "data_rc = rc.fit_transform(data1) \n",
    "data_rc = pd.DataFrame(data_rc)\n",
    "data_rc.columns=data1.columns"
   ]
  },
  {
   "cell_type": "code",
   "execution_count": 57,
   "metadata": {},
   "outputs": [
    {
     "name": "stderr",
     "output_type": "stream",
     "text": [
      "C:\\Users\\Dell\\Anaconda3\\lib\\site-packages\\statsmodels\\nonparametric\\kde.py:447: RuntimeWarning: invalid value encountered in greater\n",
      "  X = X[np.logical_and(X > clip[0], X < clip[1])] # won't work for two columns.\n",
      "C:\\Users\\Dell\\Anaconda3\\lib\\site-packages\\statsmodels\\nonparametric\\kde.py:447: RuntimeWarning: invalid value encountered in less\n",
      "  X = X[np.logical_and(X > clip[0], X < clip[1])] # won't work for two columns.\n"
     ]
    },
    {
     "data": {
      "text/plain": [
       "<matplotlib.axes._subplots.AxesSubplot at 0x211f017c808>"
      ]
     },
     "execution_count": 57,
     "metadata": {},
     "output_type": "execute_result"
    },
    {
     "data": {
      "image/png": "[encoded data removed]",
      "text/plain": [
       "<Figure size 1008x432 with 1 Axes>"
      ]
     },
     "metadata": {
      "needs_background": "light"
     },
     "output_type": "display_data"
    }
   ],
   "source": [
    "plt.figure(figsize=(14,6))          # after robust scaler   \n",
    "#plt.xlim(-2,1)\n",
    "sb.kdeplot(data_rc['MinTemp'])\n",
    "sb.kdeplot(data_rc['Rainfall'])\n",
    "sb.kdeplot(data_rc['Evaporation'])\n",
    "sb.kdeplot(data_rc['WindSpeed9am'])\n",
    "sb.kdeplot(data_rc['Pressure9am'])"
   ]
  },
  {
   "cell_type": "code",
   "execution_count": 58,
   "metadata": {},
   "outputs": [
    {
     "data": {
      "text/html": [
       "<div>\n",
       "<style scoped>\n",
       "    .dataframe tbody tr th:only-of-type {\n",
       "        vertical-align: middle;\n",
       "    }\n",
       "\n",
       "    .dataframe tbody tr th {\n",
       "        vertical-align: top;\n",
       "    }\n",
       "\n",
       "    .dataframe thead th {\n",
       "        text-align: right;\n",
       "    }\n",
       "</style>\n",
       "<table border=\"1\" class=\"dataframe\">\n",
       "  <thead>\n",
       "    <tr style=\"text-align: right;\">\n",
       "      <th></th>\n",
       "      <th>MinTemp</th>\n",
       "      <th>Rainfall</th>\n",
       "      <th>Evaporation</th>\n",
       "      <th>WindSpeed9am</th>\n",
       "      <th>Pressure9am</th>\n",
       "    </tr>\n",
       "  </thead>\n",
       "  <tbody>\n",
       "    <tr>\n",
       "      <td>count</td>\n",
       "      <td>99564.000000</td>\n",
       "      <td>99030.000000</td>\n",
       "      <td>57367.000000</td>\n",
       "      <td>99062.000000</td>\n",
       "      <td>90163.000000</td>\n",
       "    </tr>\n",
       "    <tr>\n",
       "      <td>mean</td>\n",
       "      <td>0.020490</td>\n",
       "      <td>3.911470</td>\n",
       "      <td>0.139070</td>\n",
       "      <td>0.084004</td>\n",
       "      <td>0.003348</td>\n",
       "    </tr>\n",
       "    <tr>\n",
       "      <td>std</td>\n",
       "      <td>0.689554</td>\n",
       "      <td>13.929191</td>\n",
       "      <td>0.872213</td>\n",
       "      <td>0.741534</td>\n",
       "      <td>0.747942</td>\n",
       "    </tr>\n",
       "    <tr>\n",
       "      <td>min</td>\n",
       "      <td>-2.204301</td>\n",
       "      <td>0.000000</td>\n",
       "      <td>-1.000000</td>\n",
       "      <td>-1.083333</td>\n",
       "      <td>-3.905263</td>\n",
       "    </tr>\n",
       "    <tr>\n",
       "      <td>25%</td>\n",
       "      <td>-0.473118</td>\n",
       "      <td>0.000000</td>\n",
       "      <td>-0.458333</td>\n",
       "      <td>-0.500000</td>\n",
       "      <td>-0.494737</td>\n",
       "    </tr>\n",
       "    <tr>\n",
       "      <td>50%</td>\n",
       "      <td>0.000000</td>\n",
       "      <td>0.000000</td>\n",
       "      <td>0.000000</td>\n",
       "      <td>0.000000</td>\n",
       "      <td>0.000000</td>\n",
       "    </tr>\n",
       "    <tr>\n",
       "      <td>75%</td>\n",
       "      <td>0.526882</td>\n",
       "      <td>1.000000</td>\n",
       "      <td>0.541667</td>\n",
       "      <td>0.500000</td>\n",
       "      <td>0.505263</td>\n",
       "    </tr>\n",
       "    <tr>\n",
       "      <td>max</td>\n",
       "      <td>2.354839</td>\n",
       "      <td>464.000000</td>\n",
       "      <td>29.208333</td>\n",
       "      <td>9.750000</td>\n",
       "      <td>2.463158</td>\n",
       "    </tr>\n",
       "  </tbody>\n",
       "</table>\n",
       "</div>"
      ],
      "text/plain": [
       "            MinTemp      Rainfall   Evaporation  WindSpeed9am   Pressure9am\n",
       "count  99564.000000  99030.000000  57367.000000  99062.000000  90163.000000\n",
       "mean       0.020490      3.911470      0.139070      0.084004      0.003348\n",
       "std        0.689554     13.929191      0.872213      0.741534      0.747942\n",
       "min       -2.204301      0.000000     -1.000000     -1.083333     -3.905263\n",
       "25%       -0.473118      0.000000     -0.458333     -0.500000     -0.494737\n",
       "50%        0.000000      0.000000      0.000000      0.000000      0.000000\n",
       "75%        0.526882      1.000000      0.541667      0.500000      0.505263\n",
       "max        2.354839    464.000000     29.208333      9.750000      2.463158"
      ]
     },
     "execution_count": 58,
     "metadata": {},
     "output_type": "execute_result"
    }
   ],
   "source": [
    "data_rc.describe()"
   ]
  },
  {
   "cell_type": "markdown",
   "metadata": {},
   "source": [
    "# Normalizer"
   ]
  },
  {
   "cell_type": "code",
   "execution_count": null,
   "metadata": {},
   "outputs": [],
   "source": [
    "# wont work when NaN values present\n",
    "# rarely use\n",
    "# distribution is same. only scale got changed\n",
    "# divide all obs / max value"
   ]
  },
  {
   "cell_type": "code",
   "execution_count": 62,
   "metadata": {},
   "outputs": [],
   "source": [
    "from sklearn.preprocessing import Normalizer\n",
    "nc=Normalizer()                       \n",
    "data_nc = nc.fit_transform(data1) \n",
    "data_nc = pd.DataFrame(data_nc)\n",
    "data_nc.columns=data1.columns"
   ]
  },
  {
   "cell_type": "code",
   "execution_count": 63,
   "metadata": {},
   "outputs": [
    {
     "data": {
      "text/plain": [
       "<matplotlib.axes._subplots.AxesSubplot at 0x211f17390c8>"
      ]
     },
     "execution_count": 63,
     "metadata": {},
     "output_type": "execute_result"
    },
    {
     "data": {
      "image/png": "[encoded data removed]",
      "text/plain": [
       "<Figure size 1008x432 with 1 Axes>"
      ]
     },
     "metadata": {
      "needs_background": "light"
     },
     "output_type": "display_data"
    }
   ],
   "source": [
    "plt.figure(figsize=(14,6))             \n",
    "#plt.xlim(-2,1)\n",
    "sb.kdeplot(data_nc['MinTemp'])\n",
    "sb.kdeplot(data_nc['Rainfall'])\n",
    "sb.kdeplot(data_nc['Evaporation'])\n",
    "sb.kdeplot(data_nc['WindSpeed9am'])\n",
    "sb.kdeplot(data_nc['Pressure9am'])"
   ]
  },
  {
   "cell_type": "code",
   "execution_count": 64,
   "metadata": {},
   "outputs": [
    {
     "data": {
      "text/html": [
       "<div>\n",
       "<style scoped>\n",
       "    .dataframe tbody tr th:only-of-type {\n",
       "        vertical-align: middle;\n",
       "    }\n",
       "\n",
       "    .dataframe tbody tr th {\n",
       "        vertical-align: top;\n",
       "    }\n",
       "\n",
       "    .dataframe thead th {\n",
       "        text-align: right;\n",
       "    }\n",
       "</style>\n",
       "<table border=\"1\" class=\"dataframe\">\n",
       "  <thead>\n",
       "    <tr style=\"text-align: right;\">\n",
       "      <th></th>\n",
       "      <th>MinTemp</th>\n",
       "      <th>Rainfall</th>\n",
       "      <th>Evaporation</th>\n",
       "      <th>WindSpeed9am</th>\n",
       "      <th>Pressure9am</th>\n",
       "    </tr>\n",
       "  </thead>\n",
       "  <tbody>\n",
       "    <tr>\n",
       "      <td>count</td>\n",
       "      <td>56768.000000</td>\n",
       "      <td>56768.000000</td>\n",
       "      <td>56768.000000</td>\n",
       "      <td>56768.000000</td>\n",
       "      <td>56768.000000</td>\n",
       "    </tr>\n",
       "    <tr>\n",
       "      <td>mean</td>\n",
       "      <td>0.012839</td>\n",
       "      <td>0.002023</td>\n",
       "      <td>0.005378</td>\n",
       "      <td>0.014477</td>\n",
       "      <td>0.999711</td>\n",
       "    </tr>\n",
       "    <tr>\n",
       "      <td>std</td>\n",
       "      <td>0.006336</td>\n",
       "      <td>0.006513</td>\n",
       "      <td>0.004091</td>\n",
       "      <td>0.008477</td>\n",
       "      <td>0.000295</td>\n",
       "    </tr>\n",
       "    <tr>\n",
       "      <td>min</td>\n",
       "      <td>-0.006301</td>\n",
       "      <td>0.000000</td>\n",
       "      <td>0.000000</td>\n",
       "      <td>0.000000</td>\n",
       "      <td>0.986125</td>\n",
       "    </tr>\n",
       "    <tr>\n",
       "      <td>25%</td>\n",
       "      <td>0.008116</td>\n",
       "      <td>0.000000</td>\n",
       "      <td>0.002556</td>\n",
       "      <td>0.008784</td>\n",
       "      <td>0.999620</td>\n",
       "    </tr>\n",
       "    <tr>\n",
       "      <td>50%</td>\n",
       "      <td>0.012523</td>\n",
       "      <td>0.000000</td>\n",
       "      <td>0.004689</td>\n",
       "      <td>0.012855</td>\n",
       "      <td>0.999768</td>\n",
       "    </tr>\n",
       "    <tr>\n",
       "      <td>75%</td>\n",
       "      <td>0.017543</td>\n",
       "      <td>0.000593</td>\n",
       "      <td>0.007267</td>\n",
       "      <td>0.019513</td>\n",
       "      <td>0.999879</td>\n",
       "    </tr>\n",
       "    <tr>\n",
       "      <td>max</td>\n",
       "      <td>0.033569</td>\n",
       "      <td>0.164664</td>\n",
       "      <td>0.085074</td>\n",
       "      <td>0.066338</td>\n",
       "      <td>1.000000</td>\n",
       "    </tr>\n",
       "  </tbody>\n",
       "</table>\n",
       "</div>"
      ],
      "text/plain": [
       "            MinTemp      Rainfall   Evaporation  WindSpeed9am   Pressure9am\n",
       "count  56768.000000  56768.000000  56768.000000  56768.000000  56768.000000\n",
       "mean       0.012839      0.002023      0.005378      0.014477      0.999711\n",
       "std        0.006336      0.006513      0.004091      0.008477      0.000295\n",
       "min       -0.006301      0.000000      0.000000      0.000000      0.986125\n",
       "25%        0.008116      0.000000      0.002556      0.008784      0.999620\n",
       "50%        0.012523      0.000000      0.004689      0.012855      0.999768\n",
       "75%        0.017543      0.000593      0.007267      0.019513      0.999879\n",
       "max        0.033569      0.164664      0.085074      0.066338      1.000000"
      ]
     },
     "execution_count": 64,
     "metadata": {},
     "output_type": "execute_result"
    }
   ],
   "source": [
    "data_nc.describe()"
   ]
  },
  {
   "cell_type": "code",
   "execution_count": null,
   "metadata": {},
   "outputs": [],
   "source": []
  }
 ],
 "metadata": {
  "kernelspec": {
   "display_name": "Python 3",
   "language": "python",
   "name": "python3"
  },
  "language_info": {
   "codemirror_mode": {
    "name": "ipython",
    "version": 3
   },
   "file_extension": ".py",
   "mimetype": "text/x-python",
   "name": "python",
   "nbconvert_exporter": "python",
   "pygments_lexer": "ipython3",
   "version": "3.7.4"
  }
 },
 "nbformat": 4,
 "nbformat_minor": 2
}
